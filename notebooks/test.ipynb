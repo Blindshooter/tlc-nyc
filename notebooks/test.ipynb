{
 "cells": [
  {
   "cell_type": "code",
   "execution_count": 1,
   "metadata": {},
   "outputs": [],
   "source": [
    "import asyncio\n",
    "import contextvars\n",
    "import functools\n",
    "import logging\n",
    "import os\n",
    "from os.path import isfile, join\n",
    "import pyarrow.parquet as pq\n",
    "from time import perf_counter\n",
    "from typing import List\n",
    "\n",
    "import requests\n",
    "from bs4 import BeautifulSoup\n",
    "from selenium import webdriver\n",
    "from selenium.webdriver.chrome.options import Options\n",
    "from selenium.webdriver.chrome.service import Service\n",
    "from selenium.webdriver.common.by import By\n",
    "from webdriver_manager.chrome import ChromeDriverManager"
   ]
  },
  {
   "cell_type": "code",
   "execution_count": 17,
   "metadata": {},
   "outputs": [],
   "source": [
    "TLC_URL = 'https://www1.nyc.gov/site/tlc/about/tlc-trip-record-data.page'\n",
    "DATA_DIR = '../../data/raw/'"
   ]
  },
  {
   "cell_type": "code",
   "execution_count": 3,
   "metadata": {},
   "outputs": [],
   "source": [
    "def construct_url_list() -> set:\n",
    "    \"\"\"\n",
    "    This method is used to scrap all the URLs of TLC Trip Data from the web and store them to a list\n",
    "\n",
    "    :return: List of unique URLs that contain the parquet data files\n",
    "    \"\"\"\n",
    "    url_list = set()\n",
    "\n",
    "    chrome_options = Options()\n",
    "    chrome_options.add_argument(\"--headless\")\n",
    "    chrome_options.add_argument(\"--no-sandbox\")\n",
    "\n",
    "    driver = webdriver.Chrome(service=Service(ChromeDriverManager().install()), options=chrome_options)\n",
    "    driver.get(TLC_URL)\n",
    "    link = driver.find_element(By.LINK_TEXT, 'Expand All')\n",
    "    link.click()\n",
    "\n",
    "    soup = BeautifulSoup(driver.page_source, 'html.parser')\n",
    "    for u in soup.select('[class=\"faq-v1\"] div'):\n",
    "        for a in u.find_all('a', href=True):\n",
    "            href: str = a.get('href')\n",
    "            if href.startswith('https://'):\n",
    "                url_list.add(href)\n",
    "    driver.close()\n",
    "    driver.quit()\n",
    "    return url_list"
   ]
  },
  {
   "cell_type": "code",
   "execution_count": 4,
   "metadata": {},
   "outputs": [],
   "source": [
    "def write_to_file(file_name: str, data: List[str]) -> None:\n",
    "    \"\"\"\n",
    "    Writes data to file\n",
    "\n",
    "    :param file_name: file name\n",
    "    :param data: data to write\n",
    "    \"\"\"\n",
    "    with open(file_name, 'w') as f:\n",
    "        f.write('\\n'.join(data))\n",
    "\n",
    "\n",
    "def clean_faulty_files() -> None:\n",
    "    \"\"\"\n",
    "    Removes all faulty parquet files from the data directory\n",
    "    \"\"\"\n",
    "    files = [f for f in os.listdir(DATA_DIR) if isfile(join(DATA_DIR, f))]\n",
    "    for f in files:\n",
    "        try:\n",
    "            pq.ParquetFile('{}/{}'.format(DATA_DIR, f))\n",
    "        except Exception as e:\n",
    "            logging.info(\"Deleting corrupted file '{}': {}\".format(f, e))\n",
    "            os.remove('{}/{}'.format(DATA_DIR, f))"
   ]
  },
  {
   "cell_type": "code",
   "execution_count": 5,
   "metadata": {},
   "outputs": [],
   "source": [
    "s3_urls = list(construct_url_list())"
   ]
  },
  {
   "cell_type": "code",
   "execution_count": 7,
   "metadata": {},
   "outputs": [
    {
     "data": {
      "text/plain": [
       "460"
      ]
     },
     "execution_count": 7,
     "metadata": {},
     "output_type": "execute_result"
    }
   ],
   "source": [
    "len(s3_urls)"
   ]
  },
  {
   "cell_type": "code",
   "execution_count": 8,
   "metadata": {},
   "outputs": [
    {
     "data": {
      "text/plain": [
       "['https://d37ci6vzurychx.cloudfront.net/trip-data/fhv_tripdata_2015-09.parquet',\n",
       " 'https://d37ci6vzurychx.cloudfront.net/trip-data/green_tripdata_2021-06.parquet',\n",
       " 'https://d37ci6vzurychx.cloudfront.net/trip-data/fhv_tripdata_2017-06.parquet',\n",
       " 'https://d37ci6vzurychx.cloudfront.net/trip-data/fhvhv_tripdata_2019-02.parquet',\n",
       " 'https://d37ci6vzurychx.cloudfront.net/trip-data/yellow_tripdata_2020-11.parquet']"
      ]
     },
     "execution_count": 8,
     "metadata": {},
     "output_type": "execute_result"
    }
   ],
   "source": [
    "s3_urls[:5]"
   ]
  },
  {
   "cell_type": "code",
   "execution_count": 13,
   "metadata": {},
   "outputs": [],
   "source": [
    "file_url = s3_urls[0]"
   ]
  },
  {
   "cell_type": "code",
   "execution_count": 14,
   "metadata": {},
   "outputs": [
    {
     "data": {
      "text/plain": [
       "'fhv_tripdata_2015-09.parquet'"
      ]
     },
     "execution_count": 14,
     "metadata": {},
     "output_type": "execute_result"
    }
   ],
   "source": [
    "file_name = file_url.split('/')[-1]\n",
    "file_name"
   ]
  },
  {
   "cell_type": "code",
   "execution_count": 11,
   "metadata": {},
   "outputs": [
    {
     "data": {
      "text/plain": [
       "'data/fhv_tripdata_2015-09.parquet'"
      ]
     },
     "execution_count": 11,
     "metadata": {},
     "output_type": "execute_result"
    }
   ],
   "source": [
    "os.path.join(DATA_DIR, file_name)"
   ]
  },
  {
   "cell_type": "code",
   "execution_count": 15,
   "metadata": {},
   "outputs": [],
   "source": [
    "def http_get_sync(url: str) -> bytes:\n",
    "    \"\"\"\n",
    "    Synchronous call to get the content of a URL\n",
    "    :param url: URL address\n",
    "    :return: URL content\n",
    "    \"\"\"\n",
    "    response = requests.get(url)\n",
    "    return response.content"
   ]
  },
  {
   "cell_type": "code",
   "execution_count": 16,
   "metadata": {},
   "outputs": [],
   "source": [
    "content = http_get_sync(file_url)"
   ]
  },
  {
   "cell_type": "code",
   "execution_count": 18,
   "metadata": {},
   "outputs": [],
   "source": [
    "with open(os.path.join(DATA_DIR, file_name), 'wb') as f:\n",
    "    f.write(content)"
   ]
  },
  {
   "cell_type": "code",
   "execution_count": 19,
   "metadata": {},
   "outputs": [],
   "source": [
    "START_YEAR = 2021"
   ]
  },
  {
   "cell_type": "code",
   "execution_count": 22,
   "metadata": {},
   "outputs": [
    {
     "data": {
      "text/plain": [
       "65"
      ]
     },
     "execution_count": 22,
     "metadata": {},
     "output_type": "execute_result"
    }
   ],
   "source": [
    "filtered_urls = [url for url in s3_urls if url.endswith('.parquet') and int(url[-15:-11]) >= START_YEAR]\n",
    "len(filtered_urls)"
   ]
  },
  {
   "cell_type": "code",
   "execution_count": null,
   "metadata": {},
   "outputs": [],
   "source": []
  }
 ],
 "metadata": {
  "kernelspec": {
   "display_name": "tlc-nyc",
   "language": "python",
   "name": "python3"
  },
  "language_info": {
   "codemirror_mode": {
    "name": "ipython",
    "version": 3
   },
   "file_extension": ".py",
   "mimetype": "text/x-python",
   "name": "python",
   "nbconvert_exporter": "python",
   "pygments_lexer": "ipython3",
   "version": "3.11.5"
  }
 },
 "nbformat": 4,
 "nbformat_minor": 2
}
