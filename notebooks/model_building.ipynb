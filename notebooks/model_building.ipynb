{
 "cells": [
  {
   "cell_type": "code",
   "execution_count": 20,
   "metadata": {},
   "outputs": [],
   "source": [
    "import pandas as pd\n",
    "\n",
    "from sklearn.model_selection import train_test_split, GridSearchCV\n",
    "from sklearn.metrics import mean_squared_error\n",
    "\n",
    "import numpy as np\n",
    "\n",
    "from xgboost import XGBRegressor"
   ]
  },
  {
   "cell_type": "code",
   "execution_count": 3,
   "metadata": {},
   "outputs": [],
   "source": [
    "from sklearn.model_selection import TimeSeriesSplit"
   ]
  },
  {
   "cell_type": "code",
   "execution_count": 4,
   "metadata": {},
   "outputs": [
    {
     "data": {
      "text/html": [
       "<div>\n",
       "<style scoped>\n",
       "    .dataframe tbody tr th:only-of-type {\n",
       "        vertical-align: middle;\n",
       "    }\n",
       "\n",
       "    .dataframe tbody tr th {\n",
       "        vertical-align: top;\n",
       "    }\n",
       "\n",
       "    .dataframe thead th {\n",
       "        text-align: right;\n",
       "    }\n",
       "</style>\n",
       "<table border=\"1\" class=\"dataframe\">\n",
       "  <thead>\n",
       "    <tr style=\"text-align: right;\">\n",
       "      <th></th>\n",
       "      <th>PULocationID</th>\n",
       "      <th>pickup_date</th>\n",
       "      <th>count</th>\n",
       "      <th>day_of_week</th>\n",
       "      <th>day_of_month</th>\n",
       "      <th>month</th>\n",
       "      <th>is_weekend</th>\n",
       "      <th>lag_1</th>\n",
       "      <th>lag_7</th>\n",
       "      <th>rolling_mean_3</th>\n",
       "      <th>...</th>\n",
       "      <th>rolling_max_30</th>\n",
       "      <th>expanding_mean</th>\n",
       "      <th>expanding_median</th>\n",
       "      <th>expanding_std</th>\n",
       "      <th>expanding_min</th>\n",
       "      <th>expanding_max</th>\n",
       "      <th>diff_1</th>\n",
       "      <th>diff_7</th>\n",
       "      <th>day_of_week_sin</th>\n",
       "      <th>day_of_week_cos</th>\n",
       "    </tr>\n",
       "  </thead>\n",
       "  <tbody>\n",
       "    <tr>\n",
       "      <th>0</th>\n",
       "      <td>1</td>\n",
       "      <td>2022-02-01</td>\n",
       "      <td>0</td>\n",
       "      <td>1</td>\n",
       "      <td>1</td>\n",
       "      <td>2</td>\n",
       "      <td>0</td>\n",
       "      <td>0.0</td>\n",
       "      <td>0.0</td>\n",
       "      <td>0.0</td>\n",
       "      <td>...</td>\n",
       "      <td>0.0</td>\n",
       "      <td>0.0</td>\n",
       "      <td>0.0</td>\n",
       "      <td>0.0</td>\n",
       "      <td>0.0</td>\n",
       "      <td>0.0</td>\n",
       "      <td>0.0</td>\n",
       "      <td>0.0</td>\n",
       "      <td>0.201299</td>\n",
       "      <td>0.979530</td>\n",
       "    </tr>\n",
       "    <tr>\n",
       "      <th>1</th>\n",
       "      <td>1</td>\n",
       "      <td>2022-02-02</td>\n",
       "      <td>0</td>\n",
       "      <td>2</td>\n",
       "      <td>2</td>\n",
       "      <td>2</td>\n",
       "      <td>0</td>\n",
       "      <td>0.0</td>\n",
       "      <td>0.0</td>\n",
       "      <td>0.0</td>\n",
       "      <td>...</td>\n",
       "      <td>0.0</td>\n",
       "      <td>0.0</td>\n",
       "      <td>0.0</td>\n",
       "      <td>0.0</td>\n",
       "      <td>0.0</td>\n",
       "      <td>0.0</td>\n",
       "      <td>0.0</td>\n",
       "      <td>0.0</td>\n",
       "      <td>0.394356</td>\n",
       "      <td>0.918958</td>\n",
       "    </tr>\n",
       "    <tr>\n",
       "      <th>2</th>\n",
       "      <td>1</td>\n",
       "      <td>2022-02-03</td>\n",
       "      <td>0</td>\n",
       "      <td>3</td>\n",
       "      <td>3</td>\n",
       "      <td>2</td>\n",
       "      <td>0</td>\n",
       "      <td>0.0</td>\n",
       "      <td>0.0</td>\n",
       "      <td>0.0</td>\n",
       "      <td>...</td>\n",
       "      <td>0.0</td>\n",
       "      <td>0.0</td>\n",
       "      <td>0.0</td>\n",
       "      <td>0.0</td>\n",
       "      <td>0.0</td>\n",
       "      <td>0.0</td>\n",
       "      <td>0.0</td>\n",
       "      <td>0.0</td>\n",
       "      <td>0.571268</td>\n",
       "      <td>0.820763</td>\n",
       "    </tr>\n",
       "    <tr>\n",
       "      <th>3</th>\n",
       "      <td>1</td>\n",
       "      <td>2022-02-04</td>\n",
       "      <td>0</td>\n",
       "      <td>4</td>\n",
       "      <td>4</td>\n",
       "      <td>2</td>\n",
       "      <td>0</td>\n",
       "      <td>0.0</td>\n",
       "      <td>0.0</td>\n",
       "      <td>0.0</td>\n",
       "      <td>...</td>\n",
       "      <td>0.0</td>\n",
       "      <td>0.0</td>\n",
       "      <td>0.0</td>\n",
       "      <td>0.0</td>\n",
       "      <td>0.0</td>\n",
       "      <td>0.0</td>\n",
       "      <td>0.0</td>\n",
       "      <td>0.0</td>\n",
       "      <td>0.724793</td>\n",
       "      <td>0.688967</td>\n",
       "    </tr>\n",
       "    <tr>\n",
       "      <th>4</th>\n",
       "      <td>1</td>\n",
       "      <td>2022-02-05</td>\n",
       "      <td>0</td>\n",
       "      <td>5</td>\n",
       "      <td>5</td>\n",
       "      <td>2</td>\n",
       "      <td>1</td>\n",
       "      <td>0.0</td>\n",
       "      <td>0.0</td>\n",
       "      <td>0.0</td>\n",
       "      <td>...</td>\n",
       "      <td>0.0</td>\n",
       "      <td>0.0</td>\n",
       "      <td>0.0</td>\n",
       "      <td>0.0</td>\n",
       "      <td>0.0</td>\n",
       "      <td>0.0</td>\n",
       "      <td>0.0</td>\n",
       "      <td>0.0</td>\n",
       "      <td>0.848644</td>\n",
       "      <td>0.528964</td>\n",
       "    </tr>\n",
       "  </tbody>\n",
       "</table>\n",
       "<p>5 rows × 38 columns</p>\n",
       "</div>"
      ],
      "text/plain": [
       "  PULocationID pickup_date  count  day_of_week  day_of_month  month  \\\n",
       "0            1  2022-02-01      0            1             1      2   \n",
       "1            1  2022-02-02      0            2             2      2   \n",
       "2            1  2022-02-03      0            3             3      2   \n",
       "3            1  2022-02-04      0            4             4      2   \n",
       "4            1  2022-02-05      0            5             5      2   \n",
       "\n",
       "   is_weekend  lag_1  lag_7  rolling_mean_3  ...  rolling_max_30  \\\n",
       "0           0    0.0    0.0             0.0  ...             0.0   \n",
       "1           0    0.0    0.0             0.0  ...             0.0   \n",
       "2           0    0.0    0.0             0.0  ...             0.0   \n",
       "3           0    0.0    0.0             0.0  ...             0.0   \n",
       "4           1    0.0    0.0             0.0  ...             0.0   \n",
       "\n",
       "   expanding_mean  expanding_median  expanding_std  expanding_min  \\\n",
       "0             0.0               0.0            0.0            0.0   \n",
       "1             0.0               0.0            0.0            0.0   \n",
       "2             0.0               0.0            0.0            0.0   \n",
       "3             0.0               0.0            0.0            0.0   \n",
       "4             0.0               0.0            0.0            0.0   \n",
       "\n",
       "   expanding_max  diff_1  diff_7  day_of_week_sin  day_of_week_cos  \n",
       "0            0.0     0.0     0.0         0.201299         0.979530  \n",
       "1            0.0     0.0     0.0         0.394356         0.918958  \n",
       "2            0.0     0.0     0.0         0.571268         0.820763  \n",
       "3            0.0     0.0     0.0         0.724793         0.688967  \n",
       "4            0.0     0.0     0.0         0.848644         0.528964  \n",
       "\n",
       "[5 rows x 38 columns]"
      ]
     },
     "execution_count": 4,
     "metadata": {},
     "output_type": "execute_result"
    }
   ],
   "source": [
    "df = pd.read_csv(\"../data/processed/fhvhv_daily_counts_features.csv\")\n",
    "\n",
    "df['pickup_date'] = pd.to_datetime(df['pickup_date'])\n",
    "# set PULocationID as categorical\n",
    "df[\"PULocationID\"] = df[\"PULocationID\"].astype(\"category\")\n",
    "\n",
    "df.head()"
   ]
  },
  {
   "cell_type": "code",
   "execution_count": 5,
   "metadata": {},
   "outputs": [],
   "source": [
    "pd.set_option('display.max_columns', None)"
   ]
  },
  {
   "cell_type": "code",
   "execution_count": 6,
   "metadata": {},
   "outputs": [
    {
     "data": {
      "text/plain": [
       "Timestamp('2023-09-23 00:00:00')"
      ]
     },
     "execution_count": 6,
     "metadata": {},
     "output_type": "execute_result"
    }
   ],
   "source": [
    "HOLDOUT_LENGTH_W = 1\n",
    "\n",
    "HOLDOUT_DATE_START = df.pickup_date.max() - pd.Timedelta(weeks=HOLDOUT_LENGTH_W)\n",
    "\n",
    "HOLDOUT_DATE_START"
   ]
  },
  {
   "cell_type": "code",
   "execution_count": 7,
   "metadata": {},
   "outputs": [],
   "source": [
    "holdout_df = df[df.pickup_date > HOLDOUT_DATE_START]\n",
    "\n",
    "df = df[df.pickup_date <= HOLDOUT_DATE_START]"
   ]
  },
  {
   "cell_type": "code",
   "execution_count": 9,
   "metadata": {},
   "outputs": [
    {
     "name": "stdout",
     "output_type": "stream",
     "text": [
      "<class 'pandas.core.frame.DataFrame'>\n",
      "Index: 157800 entries, 0 to 159633\n",
      "Data columns (total 38 columns):\n",
      " #   Column             Non-Null Count   Dtype         \n",
      "---  ------             --------------   -----         \n",
      " 0   PULocationID       157800 non-null  category      \n",
      " 1   pickup_date        157800 non-null  datetime64[ns]\n",
      " 2   count              157800 non-null  int64         \n",
      " 3   day_of_week        157800 non-null  int64         \n",
      " 4   day_of_month       157800 non-null  int64         \n",
      " 5   month              157800 non-null  int64         \n",
      " 6   is_weekend         157800 non-null  int64         \n",
      " 7   lag_1              157800 non-null  float64       \n",
      " 8   lag_7              157800 non-null  float64       \n",
      " 9   rolling_mean_3     157800 non-null  float64       \n",
      " 10  rolling_mean_7     157800 non-null  float64       \n",
      " 11  rolling_mean_14    157800 non-null  float64       \n",
      " 12  rolling_mean_30    157800 non-null  float64       \n",
      " 13  rolling_median_3   157800 non-null  float64       \n",
      " 14  rolling_median_7   157800 non-null  float64       \n",
      " 15  rolling_median_14  157800 non-null  float64       \n",
      " 16  rolling_median_30  157800 non-null  float64       \n",
      " 17  rolling_std_3      157800 non-null  float64       \n",
      " 18  rolling_std_7      157800 non-null  float64       \n",
      " 19  rolling_std_14     157800 non-null  float64       \n",
      " 20  rolling_std_30     157800 non-null  float64       \n",
      " 21  rolling_min_3      157800 non-null  float64       \n",
      " 22  rolling_min_7      157800 non-null  float64       \n",
      " 23  rolling_min_14     157800 non-null  float64       \n",
      " 24  rolling_min_30     157800 non-null  float64       \n",
      " 25  rolling_max_3      157800 non-null  float64       \n",
      " 26  rolling_max_7      157800 non-null  float64       \n",
      " 27  rolling_max_14     157800 non-null  float64       \n",
      " 28  rolling_max_30     157800 non-null  float64       \n",
      " 29  expanding_mean     157800 non-null  float64       \n",
      " 30  expanding_median   157800 non-null  float64       \n",
      " 31  expanding_std      157800 non-null  float64       \n",
      " 32  expanding_min      157800 non-null  float64       \n",
      " 33  expanding_max      157800 non-null  float64       \n",
      " 34  diff_1             157800 non-null  float64       \n",
      " 35  diff_7             157800 non-null  float64       \n",
      " 36  day_of_week_sin    157800 non-null  float64       \n",
      " 37  day_of_week_cos    157800 non-null  float64       \n",
      "dtypes: category(1), datetime64[ns](1), float64(31), int64(5)\n",
      "memory usage: 46.1 MB\n"
     ]
    }
   ],
   "source": [
    "df.info()"
   ]
  },
  {
   "cell_type": "code",
   "execution_count": 26,
   "metadata": {},
   "outputs": [],
   "source": [
    "def rmse(y_true, y_pred):\n",
    "    return np.sqrt(mean_squared_error(y_true, y_pred))"
   ]
  },
  {
   "cell_type": "code",
   "execution_count": 40,
   "metadata": {},
   "outputs": [],
   "source": [
    "default_parameters = {'objective':'reg:squarederror', 'n_estimators':300, 'learning_rate':0.1, 'max_depth':5, \n",
    "                      'min_child_weight':1, 'gamma':0, 'subsample':1, 'colsample_bytree':0.3, 'alpha':10, \n",
    "                      'n_jobs':-1, 'random_state':42, 'enable_categorical':True}"
   ]
  },
  {
   "cell_type": "code",
   "execution_count": 41,
   "metadata": {},
   "outputs": [],
   "source": [
    "def train_xgb(train_df, parameters = default_parameters):\n",
    "\n",
    "    from sklearn.metrics import mean_squared_error\n",
    "\n",
    "    X_train = train_df.drop(columns=[\"pickup_date\", \"count\"])\n",
    "    y_train = train_df[\"count\"]\n",
    "\n",
    "    xg_reg = XGBRegressor(**parameters)\n",
    "\n",
    "    xg_reg.fit(X_train,y_train)\n",
    "\n",
    "    # preds = xg_reg.predict(X_test)\n",
    "\n",
    "    # rmse = np.sqrt(mean_squared_error(y_test, preds))\n",
    "    # print(\"RMSE: %f\" % (rmse))\n",
    "\n",
    "    return xg_reg"
   ]
  },
  {
   "cell_type": "markdown",
   "metadata": {},
   "source": [
    "### Creating optimisation with hyperopt"
   ]
  },
  {
   "cell_type": "code",
   "execution_count": 51,
   "metadata": {},
   "outputs": [],
   "source": [
    "from hyperopt import STATUS_OK, Trials, fmin, hp, tpe"
   ]
  },
  {
   "cell_type": "code",
   "execution_count": 52,
   "metadata": {},
   "outputs": [],
   "source": [
    "search_space = {\n",
    "    'learning_rate': hp.loguniform('learning_rate', -7, 0),\n",
    "    'max_depth': hp.quniform('max_depth', 1, 100),\n",
    "    'min_child_weight': hp.loguniform('min_child_weight', -2, 3),\n",
    "    'subsample': hp.uniform('subsample', 0.5, 1),\n",
    "    'colsample_bytree': hp.uniform('colsample_bytree', 0.5, 1),\n",
    "    'gamma': hp.loguniform('gamma', -10, 10),\n",
    "    'alpha': hp.loguniform('alpha', -10, 10),\n",
    "    'lambda': hp.loguniform('lambda', -10, 10),\n",
    "    'objective': 'binary:logistic',\n",
    "    'eval_metric': 'auc',\n",
    "    'seed': 123,\n",
    "}"
   ]
  },
  {
   "cell_type": "code",
   "execution_count": 44,
   "metadata": {},
   "outputs": [],
   "source": [
    "def objective(space, model, test_df):\n",
    "    pred = model.predict(test_df.drop(columns=[\"pickup_date\", \"count\"]))\n",
    "    loss = rmse(test_df[\"count\"], pred)\n",
    "    return {'loss': loss, 'status': STATUS_OK}"
   ]
  },
  {
   "cell_type": "code",
   "execution_count": null,
   "metadata": {},
   "outputs": [],
   "source": []
  },
  {
   "cell_type": "code",
   "execution_count": null,
   "metadata": {},
   "outputs": [],
   "source": []
  },
  {
   "cell_type": "markdown",
   "metadata": {},
   "source": [
    "## Training loop\n",
    "We optimise the hyperparameters of the model using the hyperopt library.\n",
    "The optimisation will happen on the latest (most recent) backtest.\n",
    "\n",
    "Then we will just train the model with the best hyperparameters on the other backtests and evaluate it separately.\n"
   ]
  },
  {
   "cell_type": "code",
   "execution_count": 45,
   "metadata": {},
   "outputs": [
    {
     "name": "stdout",
     "output_type": "stream",
     "text": [
      "Backtest 1:\n",
      "   Training Data: Start - 2022-02-15, End - 2023-09-15\n",
      "   Backtest Data: Start - 2023-09-16, End - 2023-09-22\n"
     ]
    },
    {
     "name": "stderr",
     "output_type": "stream",
     "text": [
      "/var/folders/1j/zwnv49_10lv7m7s34ngtk0kc0000gn/T/ipykernel_92415/3770635828.py:30: SettingWithCopyWarning: \n",
      "A value is trying to be set on a copy of a slice from a DataFrame.\n",
      "Try using .loc[row_indexer,col_indexer] = value instead\n",
      "\n",
      "See the caveats in the documentation: https://pandas.pydata.org/pandas-docs/stable/user_guide/indexing.html#returning-a-view-versus-a-copy\n",
      "  test_df['prediction'] = model_xgb.predict(test_df.drop(columns=[\"pickup_date\", \"count\"]))\n"
     ]
    },
    {
     "name": "stdout",
     "output_type": "stream",
     "text": [
      "RMSE for backtest 0 is 270.016903365208\n",
      "Backtest 2:\n",
      "   Training Data: Start - 2022-02-08, End - 2023-09-08\n",
      "   Backtest Data: Start - 2023-09-09, End - 2023-09-15\n"
     ]
    },
    {
     "name": "stderr",
     "output_type": "stream",
     "text": [
      "/var/folders/1j/zwnv49_10lv7m7s34ngtk0kc0000gn/T/ipykernel_92415/3770635828.py:30: SettingWithCopyWarning: \n",
      "A value is trying to be set on a copy of a slice from a DataFrame.\n",
      "Try using .loc[row_indexer,col_indexer] = value instead\n",
      "\n",
      "See the caveats in the documentation: https://pandas.pydata.org/pandas-docs/stable/user_guide/indexing.html#returning-a-view-versus-a-copy\n",
      "  test_df['prediction'] = model_xgb.predict(test_df.drop(columns=[\"pickup_date\", \"count\"]))\n"
     ]
    },
    {
     "name": "stdout",
     "output_type": "stream",
     "text": [
      "RMSE for backtest 1 is 325.83774588030457\n",
      "Backtest 3:\n",
      "   Training Data: Start - 2022-02-01, End - 2023-09-01\n",
      "   Backtest Data: Start - 2023-09-02, End - 2023-09-08\n",
      "RMSE for backtest 2 is 412.58869613111244\n"
     ]
    },
    {
     "name": "stderr",
     "output_type": "stream",
     "text": [
      "/var/folders/1j/zwnv49_10lv7m7s34ngtk0kc0000gn/T/ipykernel_92415/3770635828.py:30: SettingWithCopyWarning: \n",
      "A value is trying to be set on a copy of a slice from a DataFrame.\n",
      "Try using .loc[row_indexer,col_indexer] = value instead\n",
      "\n",
      "See the caveats in the documentation: https://pandas.pydata.org/pandas-docs/stable/user_guide/indexing.html#returning-a-view-versus-a-copy\n",
      "  test_df['prediction'] = model_xgb.predict(test_df.drop(columns=[\"pickup_date\", \"count\"]))\n"
     ]
    }
   ],
   "source": [
    "BACKTESTS = 3\n",
    "BACKTESTS_LENGTH_W = 1\n",
    "\n",
    "TRAIN_START = df.pickup_date.min() - pd.Timedelta(days=1)\n",
    "\n",
    "TRAIN_LENGTH = df.pickup_date.max() - pd.Timedelta(weeks=BACKTESTS_LENGTH_W*BACKTESTS) - TRAIN_START\n",
    "\n",
    "\n",
    "holdout_start = HOLDOUT_DATE_START\n",
    "earliest_train_start = df.pickup_date.min()\n",
    "\n",
    "\n",
    "# Calculate backtest periods\n",
    "for i in range(BACKTESTS):\n",
    "    backtest_end = holdout_start - pd.Timedelta(days=1)  # End date of backtest is one day before holdout starts\n",
    "    backtest_start = backtest_end - pd.Timedelta(weeks=BACKTESTS_LENGTH_W) + pd.Timedelta(days=1)\n",
    "\n",
    "    train_start = earliest_train_start + pd.Timedelta(weeks=BACKTESTS_LENGTH_W*(BACKTESTS - i-1))\n",
    "    train_end = backtest_start - pd.Timedelta(days=1)\n",
    "\n",
    "    print(f\"Backtest {i+1}:\")\n",
    "    print(f\"   Training Data: Start - {train_start.date()}, End - {train_end.date()}\")\n",
    "    print(f\"   Backtest Data: Start - {backtest_start.date()}, End - {backtest_end.date()}\")\n",
    "\n",
    "    train_df = df[(df.pickup_date >= train_start) & (df.pickup_date <= train_end)]\n",
    "    test_df = df[(df.pickup_date >= backtest_start) & (df.pickup_date <= backtest_end)]\n",
    "\n",
    "    model_xgb = train_xgb(train_df)\n",
    "\n",
    "    test_df['prediction'] = model_xgb.predict(test_df.drop(columns=[\"pickup_date\", \"count\"]))\n",
    "    \n",
    "    print(\"RMSE for backtest {} is {}\".format(i, rmse(test_df['count'], test_df['prediction'])))\n",
    "\n",
    "\n",
    "    # Update the holdout start for the next backtest\n",
    "    holdout_start = backtest_start #- pd.Timedelta(days=1)"
   ]
  },
  {
   "cell_type": "code",
   "execution_count": 24,
   "metadata": {},
   "outputs": [
    {
     "data": {
      "text/plain": [
       "[<matplotlib.lines.Line2D at 0x1434e2a10>]"
      ]
     },
     "execution_count": 24,
     "metadata": {},
     "output_type": "execute_result"
    },
    {
     "data": {
      "image/png": "[encoded data removed]",
      "text/plain": [
       "<Figure size 640x480 with 1 Axes>"
      ]
     },
     "metadata": {},
     "output_type": "display_data"
    }
   ],
   "source": [
    "# plot predictions vs actuals\n",
    "import matplotlib.pyplot as plt\n",
    "\n",
    "test_df_4 = test_df[test_df['PULocationID'] == 4]\n",
    "plt.plot(test_df_4['pickup_date'], test_df_4['count'], label='actual')\n",
    "plt.plot(test_df_4['pickup_date'], test_df_4['prediction'], label='prediction')\n"
   ]
  },
  {
   "cell_type": "code",
   "execution_count": null,
   "metadata": {},
   "outputs": [],
   "source": []
  }
 ],
 "metadata": {
  "kernelspec": {
   "display_name": "tlc-nyc",
   "language": "python",
   "name": "python3"
  },
  "language_info": {
   "codemirror_mode": {
    "name": "ipython",
    "version": 3
   },
   "file_extension": ".py",
   "mimetype": "text/x-python",
   "name": "python",
   "nbconvert_exporter": "python",
   "pygments_lexer": "ipython3",
   "version": "3.11.5"
  }
 },
 "nbformat": 4,
 "nbformat_minor": 2
}
